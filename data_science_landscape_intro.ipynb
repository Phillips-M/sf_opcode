{
 "cells": [
  {
   "cell_type": "markdown",
   "metadata": {
    "slideshow": {
     "slide_type": "slide"
    }
   },
   "source": [
    "![](images/pony_google.png)"
   ]
  },
  {
   "cell_type": "markdown",
   "metadata": {
    "slideshow": {
     "slide_type": "subslide"
    }
   },
   "source": [
    "![](images/real_pony_google.png)"
   ]
  },
  {
   "cell_type": "markdown",
   "metadata": {
    "collapsed": true
   },
   "source": [
    "## My definition of data science.\n",
    "> A data scientist is someone who uses some combination of domain/business knowledge, probability theory, stats, machine learning, deep learning(is really a part of ml) and artificial intelligence to provide one or both of data driven recomendations for a company or data driven products for a company.\n",
    "#### Of course this is the definition of a Unicorn, almost no data scientist can do all of this well."
   ]
  },
  {
   "cell_type": "markdown",
   "metadata": {
    "collapsed": true
   },
   "source": [
    "## A Data Scientist exists to extract value out of data for a company, that's it.\n",
    "> ### Questions data scientists answer.\n",
    "* We have customers, but we don’t understand them. How do we understand them better?\n",
    "* How do we get more people to click on thing X or Y?\n",
    "* How do we move our data to Hadoop? Should we move our data to Hadoop? How much?\n",
    "* How do we count the number of products we sell? How do we increase the number of products we sell?\n",
    "* We have data in two different places. How do we get it into one place?"
   ]
  },
  {
   "cell_type": "markdown",
   "metadata": {},
   "source": [
    "## Forecasting Uber Surge Pricing\n",
    "> * I've spent some time as an Uber driver, needed surge to make a profit\n",
    "* How can I know where to be before the surge hits?\n",
    "* Pulled a bunch of data from Uber API\n",
    "* Multiviate time-series analysis using RNN\n",
    "[Github Repo](https://github.com/matthewswogger/Surge-Forecast-with-RNN)\n",
    "[Surge Forecast Blog Post](http://matthewswogger.com/en/blog/surge-pricing-forecast-with-neural-networks/)"
   ]
  },
  {
   "cell_type": "markdown",
   "metadata": {},
   "source": [
    "## Music First Hand Matching Algorithm\n",
    "> * Algorithm to find the best local band match for venues/fans event\n",
    "* similar to a content based recommender system\n",
    "* the key is to get the questions we ask correct\n",
    "* similarity metric and some weighting\n",
    "[Music Firsthand](https://musicfirsthand.live/)"
   ]
  },
  {
   "cell_type": "code",
   "execution_count": null,
   "metadata": {
    "collapsed": true
   },
   "outputs": [],
   "source": []
  },
  {
   "cell_type": "markdown",
   "metadata": {
    "collapsed": true
   },
   "source": [
    "## Windows users need to download and install Cygwin.\n",
    "> #### Cygwin is a large collection of Open Source tools which provide functionality similar to a Linux distribution on Windows.\n",
    "#### Cygwin allows us to install Bash, which is really what we are after.\n",
    "[Link to cygwin install](https://cygwin.com/install.html)"
   ]
  },
  {
   "cell_type": "markdown",
   "metadata": {
    "collapsed": true
   },
   "source": [
    "## Everyone downloads and installs Anaconda.\n",
    "> #### Anaconda is the most popular data science ecosystem. It is an open source package managment system.\n",
    "#### So no compiling needed.\n",
    "[Link to Anaconda install](https://www.continuum.io/downloads)\n",
    "```sh\n",
    "$ which python\n",
    "$ source .bashrc\n",
    "$ which python\n",
    "```"
   ]
  },
  {
   "cell_type": "code",
   "execution_count": null,
   "metadata": {
    "collapsed": true
   },
   "outputs": [],
   "source": []
  },
  {
   "cell_type": "code",
   "execution_count": null,
   "metadata": {
    "collapsed": true
   },
   "outputs": [],
   "source": []
  },
  {
   "cell_type": "code",
   "execution_count": null,
   "metadata": {
    "collapsed": true
   },
   "outputs": [],
   "source": []
  },
  {
   "cell_type": "code",
   "execution_count": null,
   "metadata": {
    "collapsed": true
   },
   "outputs": [],
   "source": []
  },
  {
   "cell_type": "code",
   "execution_count": null,
   "metadata": {
    "collapsed": true
   },
   "outputs": [],
   "source": []
  },
  {
   "cell_type": "code",
   "execution_count": null,
   "metadata": {
    "collapsed": true
   },
   "outputs": [],
   "source": []
  },
  {
   "cell_type": "code",
   "execution_count": null,
   "metadata": {
    "collapsed": true
   },
   "outputs": [],
   "source": []
  },
  {
   "cell_type": "code",
   "execution_count": null,
   "metadata": {
    "collapsed": true
   },
   "outputs": [],
   "source": []
  },
  {
   "cell_type": "code",
   "execution_count": null,
   "metadata": {
    "collapsed": true,
    "slideshow": {
     "slide_type": "subslide"
    }
   },
   "outputs": [],
   "source": [
    "import statsmodels.api as sm\n",
    "import pandas as pd\n",
    "import matplotlib.pyplot as plt\n",
    "import seaborn as sns\n",
    "import numpy as np\n",
    "\n",
    "%matplotlib inline"
   ]
  },
  {
   "cell_type": "code",
   "execution_count": null,
   "metadata": {
    "collapsed": false,
    "scrolled": true,
    "slideshow": {
     "slide_type": "fragment"
    }
   },
   "outputs": [],
   "source": [
    "prestige = sm.datasets.get_rdataset(\"Duncan\", \"car\", cache=True).data\n",
    "prestige.head()"
   ]
  },
  {
   "cell_type": "code",
   "execution_count": null,
   "metadata": {
    "collapsed": false
   },
   "outputs": [],
   "source": [
    "prestige.shape"
   ]
  },
  {
   "cell_type": "code",
   "execution_count": null,
   "metadata": {
    "collapsed": false,
    "scrolled": true
   },
   "outputs": [],
   "source": [
    "prestige['ind'] = np.arange(prestige.shape[0])\n",
    "prestige.set_index('ind', inplace=True)\n",
    "prestige = prestige.rename_axis(None)\n",
    "prestige.head()"
   ]
  },
  {
   "cell_type": "code",
   "execution_count": null,
   "metadata": {
    "collapsed": false,
    "scrolled": false
   },
   "outputs": [],
   "source": [
    "sns.pairplot(prestige, hue='type', aspect=1.5)\n",
    "plt.show()"
   ]
  },
  {
   "cell_type": "code",
   "execution_count": null,
   "metadata": {
    "collapsed": false,
    "scrolled": true
   },
   "outputs": [],
   "source": [
    "prestige = prestige.join(pd.get_dummies(prestige['type']))\n",
    "prestige.drop('type', axis=1, inplace=True)\n",
    "prestige.drop('bc', axis=1, inplace=True)\n",
    "prestige.head()"
   ]
  },
  {
   "cell_type": "code",
   "execution_count": null,
   "metadata": {
    "collapsed": false
   },
   "outputs": [],
   "source": [
    "y = prestige['prestige']\n",
    "x = prestige[['income', 'education', 'prof', 'wc']].astype(float)\n",
    "x = sm.add_constant(x)"
   ]
  },
  {
   "cell_type": "code",
   "execution_count": null,
   "metadata": {
    "collapsed": false
   },
   "outputs": [],
   "source": [
    "model = sm.OLS(y, x).fit()\n",
    "summary = model.summary()\n",
    "print(summary)"
   ]
  },
  {
   "cell_type": "code",
   "execution_count": null,
   "metadata": {
    "collapsed": false
   },
   "outputs": [],
   "source": [
    "from sklearn.linear_model import LinearRegression\n",
    "from sklearn.model_selection import train_test_split\n",
    "from sklearn.model_selection import cross_val_score\n",
    "import numpy as np\n",
    "from sklearn.datasets import load_boston\n",
    "import pandas as pd\n",
    "import matplotlib.pyplot as plt\n",
    "import seaborn as sns\n",
    "\n",
    "%matplotlib inline"
   ]
  },
  {
   "cell_type": "code",
   "execution_count": null,
   "metadata": {
    "collapsed": false
   },
   "outputs": [],
   "source": [
    "boston = load_boston()\n",
    "print(boston.DESCR[:1222])"
   ]
  },
  {
   "cell_type": "code",
   "execution_count": null,
   "metadata": {
    "collapsed": false
   },
   "outputs": [],
   "source": [
    "y = pd.DataFrame(boston.target, columns=['house_price'])\n",
    "X = pd.DataFrame(boston.data, columns=boston.feature_names)\n",
    "df = X.join(y)\n",
    "df.head()"
   ]
  },
  {
   "cell_type": "code",
   "execution_count": null,
   "metadata": {
    "collapsed": false
   },
   "outputs": [],
   "source": [
    "sns.pairplot(df, hue='house_price', aspect=1.5)\n",
    "plt.show()"
   ]
  },
  {
   "cell_type": "code",
   "execution_count": null,
   "metadata": {
    "collapsed": true
   },
   "outputs": [],
   "source": []
  }
 ],
 "metadata": {
  "kernelspec": {
   "display_name": "Python 3",
   "language": "python",
   "name": "python3"
  },
  "language_info": {
   "codemirror_mode": {
    "name": "ipython",
    "version": 3
   },
   "file_extension": ".py",
   "mimetype": "text/x-python",
   "name": "python",
   "nbconvert_exporter": "python",
   "pygments_lexer": "ipython3",
   "version": "3.6.0"
  }
 },
 "nbformat": 4,
 "nbformat_minor": 2
}
